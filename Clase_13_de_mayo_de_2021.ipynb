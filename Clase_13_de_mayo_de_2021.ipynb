{
  "nbformat": 4,
  "nbformat_minor": 0,
  "metadata": {
    "colab": {
      "name": "Clase 13 de mayo de 2021.ipynb",
      "provenance": [],
      "collapsed_sections": [],
      "authorship_tag": "ABX9TyMZfVd+xEkcMkePXufoRfel",
      "include_colab_link": true
    },
    "kernelspec": {
      "name": "python3",
      "display_name": "Python 3"
    },
    "language_info": {
      "name": "python"
    }
  },
  "cells": [
    {
      "cell_type": "markdown",
      "metadata": {
        "id": "view-in-github",
        "colab_type": "text"
      },
      "source": [
        "<a href=\"https://colab.research.google.com/github/iolchaparroma/excel/blob/main/Clase_13_de_mayo_de_2021.ipynb\" target=\"_parent\"><img src=\"https://colab.research.google.com/assets/colab-badge.svg\" alt=\"Open In Colab\"/></a>"
      ]
    },
    {
      "cell_type": "code",
      "metadata": {
        "colab": {
          "base_uri": "https://localhost:8080/"
        },
        "id": "N1aP3SSqCDm2",
        "outputId": "9f506772-7292-456e-a4e0-0c7dd3255580"
      },
      "source": [
        "x=int(input(\"Digite un número de tres cifras: \"))\n",
        "\n",
        "#Comprobar las cifras del núero que se ingreso:\n",
        "\n",
        "prueba=x-1000\n",
        "if prueba<0 and x>99:\n",
        "  print(\"El número es de tres cifras.\")\n",
        "\n",
        "#Calculo las centenas, decenas y unidades:\n",
        "\n",
        "  unidades=x%10\n",
        "  decenas=(x%100)//10\n",
        "  centenas=x//100\n",
        "  print(\"Centenas: \", centenas)\n",
        "  print(\"Decenas: \", decenas)\n",
        "  print(\"Unidades: \", unidades)\n",
        "\n",
        "#Comparar las centenas y las unidades:\n",
        "\n",
        "  if (unidades==centenas):\n",
        "    print(\"El número es igual al revés.\")\n",
        "  else:\n",
        "    print(\"El número no es igual al revés.\")\n",
        "\n",
        "else:\n",
        "  print(\"El número es menor de tres cifras ó mayor de tres cifras ó negativo.\")\n"
      ],
      "execution_count": null,
      "outputs": [
        {
          "output_type": "stream",
          "text": [
            "Digite un número de tres cifras: 000\n",
            "El número es menor de tres cifras ó mayor de tres cifras ó negativo.\n"
          ],
          "name": "stdout"
        }
      ]
    },
    {
      "cell_type": "code",
      "metadata": {
        "colab": {
          "base_uri": "https://localhost:8080/"
        },
        "id": "hIVZ0mXXKiC5",
        "outputId": "2076302d-320f-48f5-e86e-945e8aa370f8"
      },
      "source": [
        "reco=int(input(\"Digite recorrido del vehículo (en km): \"))\n",
        "Monto=0\n",
        "\n",
        "#Compruebo todos lo rangos de recorrido:\n",
        "\n",
        "if (reco>0):\n",
        "\n",
        "  if (reco<=300 and reco>0):\n",
        "    monto=3000000\n",
        "  elif (reco>300 and reco<=1000):\n",
        "    adi=reco-300\n",
        "    monto=3000000+adi*15000\n",
        "  else:\n",
        "    adi=reco-1000\n",
        "    monto=3000000+adi*10000\n",
        "\n",
        "# Ya con el monto calculado voy a calcular el impuesto:\n",
        "\n",
        "  iva=monto*0.2\n",
        "  print(\"El monto total es: \", monto)\n",
        "\n",
        "  print(\"El iva calculado sobre el monto: \", iva)\n",
        "\n",
        "else:\n",
        "  print(\"Recorrido no válido.\")"
      ],
      "execution_count": null,
      "outputs": [
        {
          "output_type": "stream",
          "text": [
            "Digite recorrido del vehículo (en km): 1001\n",
            "El monto total es:  3010000\n",
            "El iva calculado sobre el monto:  602000.0\n"
          ],
          "name": "stdout"
        }
      ]
    },
    {
      "cell_type": "code",
      "metadata": {
        "colab": {
          "base_uri": "https://localhost:8080/"
        },
        "id": "JDAlBAI-O3O6",
        "outputId": "d2d9bd48-6060-4416-fbde-8659a58e71de"
      },
      "source": [
        "juan=int(input(\"Digite edad de Juan: \"))\n",
        "mario=int(input(\"Digite edad de Mario: \"))\n",
        "pedro=int(input(\"Digite edad de Pedro: \"))\n",
        "\n",
        "# Compruebo todos las posibles comparaciones:\n",
        "\n",
        "if juan==mario:\n",
        "  cond1=True\n",
        "else:\n",
        "  cond1=False\n",
        "  \n",
        "if juan==pedro:\n",
        "  cond2=True\n",
        "else:\n",
        "  cond2=False\n",
        "\n",
        "if mario==pedro:\n",
        "  cond3=True\n",
        "else:\n",
        "  cond3=False\n",
        "\n",
        "# Ya teniendo las comparaciones verifico los posibles resultados y los imprimo:\n",
        "\n",
        "if cond1==True and cond3==True:\n",
        "  print(\"Las tres edades son iguales.\")\n",
        "elif cond1==True:\n",
        "  print(\"La edad de Juan y de Mario son iguales.\")\n",
        "elif cond2==True:\n",
        "  print(\"La edad de Juan y de Pedro son iguales.\")\n",
        "elif cond3==True:\n",
        "  print(\"La edad de Mario y de Pedro son iguales.\")\n",
        "else:\n",
        "  print(\"Todos tienen edades diferentes.\")"
      ],
      "execution_count": null,
      "outputs": [
        {
          "output_type": "stream",
          "text": [
            "Digite edad de Juan: 1\n",
            "Digite edad de Mario: 1\n",
            "Digite edad de Pedro: 1\n",
            "Las tres edades son iguales.\n"
          ],
          "name": "stdout"
        }
      ]
    },
    {
      "cell_type": "code",
      "metadata": {
        "id": "U4OixtolL_qF"
      },
      "source": [
        "\n",
        "\n",
        "a=int(input(\"Nota 1: \"))\n",
        "b=int(input(\"Nota 2: \"))\n",
        "c=int(input(\"Nota 3: \"))\n",
        "d=int(input(\"Nota 4: \"))\n",
        "\n",
        "sum=0\n",
        "\n",
        "if a-b<0:\n",
        "  mem=a\n",
        "  sum=sum+b\n",
        "elif b-a<0:\n",
        "  mem=b\n",
        "  sum=sum+a\n",
        "else:\n",
        "  mem=b\n",
        "  sum=sum+a  \n",
        "\n",
        "\n",
        "if mem-c<0:\n",
        "  mem=mem\n",
        "  sum=sum+c\n",
        "elif c-mem<0:\n",
        "  mem=c\n",
        "  sum=sum+mem\n",
        "else:\n",
        "  mem=c\n",
        " \n",
        "\n",
        "\n",
        "if mem-d<0:\n",
        "  mem=mem\n",
        "  sum=sum+d\n",
        "elif d-mem<0:\n",
        "    mem=d\n",
        "    sum=sum+mem\n",
        "else:\n",
        "  mem=d\n",
        "\n",
        "\n",
        "\n",
        "\n",
        "print(\"Memoria: \",mem)\n",
        "\n",
        "if a==mem:\n",
        "  sum=b+c+d\n",
        "elif b==mem:\n",
        "  sum=a+c+d\n",
        "elif c==mem:\n",
        "  sum=a+b+d\n",
        "elif d=mem:\n",
        "  sum=a+b+c\n",
        "else\n",
        "\n",
        "\n",
        "\n",
        "print(\"Suma\",sum)\n",
        "\n"
      ],
      "execution_count": null,
      "outputs": []
    },
    {
      "cell_type": "code",
      "metadata": {
        "colab": {
          "base_uri": "https://localhost:8080/"
        },
        "id": "oq3mpmFhc1VQ",
        "outputId": "00cd8bec-2bf7-4139-b67c-cbc70c8c7089"
      },
      "source": [
        "\"\"\" 1.\tEl promedio de prácticas de un curso se calcula en base a cuatro prácticas\n",
        "calificadas de las cuales se elimina la nota menor y se promedian las tres notas más altas.\n",
        "Diseñe un algoritmo que determine la nota eliminada y el promedio de prácticas de un estudiante.\"\"\"\n",
        "\n",
        "a=int(input(\"Nota 1: \"))\n",
        "b=int(input(\"Nota 2: \"))\n",
        "c=int(input(\"Nota 3: \"))\n",
        "d=int(input(\"Nota 4: \"))\n",
        "\n",
        "sum=0\n",
        "\n",
        "if a-b<0:\n",
        "  mem=a\n",
        "elif b-a<0:\n",
        "  mem=b\n",
        "else:\n",
        "  mem=b\n",
        " \n",
        "if mem-c<0:\n",
        "  mem=mem\n",
        "elif c-mem<0:\n",
        "  mem=c\n",
        "else:\n",
        "  mem=c\n",
        " \n",
        "if mem-d<0:\n",
        "  mem=mem\n",
        "elif d-mem<0:\n",
        "    mem=d\n",
        "else:\n",
        "  mem=d\n",
        "\n",
        "print(\"Nota más baja: \",mem)\n",
        "\n",
        "if a==mem:\n",
        "  sum=b+c+d\n",
        "elif b==mem:\n",
        "  sum=a+c+d\n",
        "elif c==mem:\n",
        "  sum=a+b+d\n",
        "elif d==mem:\n",
        "  sum=a+b+c\n",
        "\n",
        "print(\"Suma (tres notas más altas): \",sum)\n",
        "\n",
        "prom=sum/3\n",
        "\n",
        "print(\"Promedio (tres notas más altas): \",prom)\n"
      ],
      "execution_count": null,
      "outputs": [
        {
          "output_type": "stream",
          "text": [
            "Nota 1: 1\n",
            "Nota 2: 2\n",
            "Nota 3: 3\n",
            "Nota 4: 4\n",
            "Nota más baja:  1\n",
            "Suma (tres notas más altas):  9\n",
            "Promedio (tres notas más altas):  3.0\n"
          ],
          "name": "stdout"
        }
      ]
    },
    {
      "cell_type": "code",
      "metadata": {
        "id": "H1T2XJbvfm--",
        "colab": {
          "base_uri": "https://localhost:8080/"
        },
        "outputId": "56217b18-24f9-4f02-8a22-18fd8b61ec65"
      },
      "source": [
        "\"\"\"2.\tDiseñe un algoritmo que lea tres longitudes y determine si forman o no un triángulo.\n",
        "Si es un triángulo determine de qué tipo de triángulo se trata entre: \n",
        "1. equilátero (si tiene tres lados iguales)\n",
        "2. isósceles (si tiene dos lados iguales)\n",
        "3. escaleno (si tiene tres lados desiguales).\n",
        "Considere que para formar un triángulo se requiere que: \"el lado mayor sea menor que la suma de los otros dos lados\".\"\"\"\n",
        "\n",
        "\n",
        "a=float(input(\"a: \"))\n",
        "b=float(input(\"b: \"))\n",
        "c=float(input(\"c: \"))\n",
        "\n",
        "if a<(b+c) and b<(a+c) and c<(a+b):\n",
        "  print(\"Es un triángulo\")\n",
        "  if a==b and b==c:\n",
        "      print(\"Equilátero\")\n",
        "      pass\n",
        "  elif a==b or b==c or a==c:\n",
        "      print(\"Isósceles\")\n",
        "      pass\n",
        "  elif a!=b and b!=c and a!=c:\n",
        "      print(\"Escaleno\")\n",
        "      pass\n",
        "  pass\n",
        "else:\n",
        "  print(\"No es un triángulo\")\n",
        "  pass\n",
        "\n",
        "  # Escaleno (2,4,5);(6,7.5,10), Isósceles (3,3,2) (8,8,5)\n"
      ],
      "execution_count": null,
      "outputs": [
        {
          "output_type": "stream",
          "text": [
            "a: 2\n",
            "b: 3\n",
            "c: 3\n",
            "Es un triángulo\n",
            "Isósceles\n"
          ],
          "name": "stdout"
        }
      ]
    },
    {
      "cell_type": "code",
      "metadata": {
        "colab": {
          "base_uri": "https://localhost:8080/"
        },
        "id": "LdiuQr2EfPTe",
        "outputId": "becc3f69-c7b6-4164-f9fa-14365a9b55bb"
      },
      "source": [
        "a=int(input(\"Digite valor de a: \"))\n",
        "b=int(input(\"Digite valor de b: \"))\n",
        "\n",
        "if a==1:\n",
        "  print(\"a\")\n",
        "  pass\n",
        "\n",
        "elif b==2:\n",
        "  print(\"b\")\n",
        "  pass\n",
        "\n",
        "\n",
        "else:\n",
        "  print(\"c\")\n",
        "\n",
        "\n",
        "  pass\n",
        "\n",
        "\n",
        "\n"
      ],
      "execution_count": null,
      "outputs": [
        {
          "output_type": "stream",
          "text": [
            "Digite valor de b: 2\n",
            "a\n"
          ],
          "name": "stdout"
        }
      ]
    },
    {
      "cell_type": "code",
      "metadata": {
        "id": "irtTTs0HAaT7"
      },
      "source": [
        "\n"
      ],
      "execution_count": null,
      "outputs": []
    },
    {
      "cell_type": "code",
      "metadata": {
        "colab": {
          "base_uri": "https://localhost:8080/"
        },
        "id": "fhXfEWOThLfa",
        "outputId": "d8c91b6d-32fa-4a3e-bf11-b3fc39dc2a6f"
      },
      "source": [
        "peso=float(input(\"Digite peso: \"))\n",
        "altura=float(input(\"Digite altura: \"))\n",
        "\n",
        "imc=peso/(altura**2)\n",
        "\n",
        "if imc<=17.0:\n",
        "  print(\"Bajo peso\")\n",
        "elif imc>=17.1 and imc<=22.1:\n",
        "  print(\"Normal\")\n",
        "elif imc>=22.2 and imc<=31.0:\n",
        "  print(\"Sobrepeso\")\n",
        "elif imc>=31.1:\n",
        "  print(\"Obeso\")\n",
        "else:\n",
        "  print(\"Valor no encontrado\")"
      ],
      "execution_count": null,
      "outputs": [
        {
          "output_type": "stream",
          "text": [
            "Digite peso: 45\n",
            "Digite altura: 1.85\n",
            "Bajo peso\n"
          ],
          "name": "stdout"
        }
      ]
    },
    {
      "cell_type": "code",
      "metadata": {
        "colab": {
          "base_uri": "https://localhost:8080/"
        },
        "id": "IqEZjqS5p7MK",
        "outputId": "7b05dfae-9c07-4d58-b954-b7cf4edadfed"
      },
      "source": [
        "num = int(input('Introduzca un número: '))\n",
        "if num == 100:\n",
        " print(\"Usted escribió el 100\")\n",
        " pass\n",
        "elif num > 100:\n",
        "  print(\"Usted escribió un número mayor a 100\")\n",
        "  pass\n",
        "else:\n",
        "   print(\"Usted escribió un número menor a 100\")\n",
        "   pass"
      ],
      "execution_count": null,
      "outputs": [
        {
          "output_type": "stream",
          "text": [
            "Introduzca un número: 3\n",
            "Usted escribió un número menor a 100\n"
          ],
          "name": "stdout"
        }
      ]
    }
  ]
}